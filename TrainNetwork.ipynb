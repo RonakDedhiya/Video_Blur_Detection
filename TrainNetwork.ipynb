{
 "cells": [
  {
   "cell_type": "code",
   "execution_count": 11,
   "id": "b35f6090-2f61-41b6-aabc-a8d80ad518e5",
   "metadata": {},
   "outputs": [],
   "source": [
    "import pandas as pd\n",
    "from sklearn.linear_model import LogisticRegression\n",
    "from sklearn.svm import SVC\n",
    "from sklearn.ensemble import RandomForestClassifier\n",
    "from sklearn.ensemble import GradientBoostingClassifier\n",
    "from sklearn.pipeline import Pipeline\n",
    "from sklearn.model_selection import GridSearchCV, RandomizedSearchCV\n",
    "from sklearn.model_selection import train_test_split\n",
    "from sklearn.tree import DecisionTreeClassifier\n",
    "from sklearn.naive_bayes import MultinomialNB\n",
    "from sklearn.neighbors import KNeighborsClassifier\n",
    "from sklearn.neural_network import MLPClassifier\n",
    "from sklearn.metrics import *\n",
    "import numpy as np\n",
    "from itertools import combinations\n",
    "from sklearn.model_selection import PredefinedSplit\n",
    "import glob\n",
    "pd.set_option('display.max_rows', None)"
   ]
  },
  {
   "cell_type": "code",
   "execution_count": 6,
   "id": "994b1e27-c89a-4ee9-85dc-292eddc4f38c",
   "metadata": {},
   "outputs": [],
   "source": [
    "# Initialze the estimators\n",
    "clf1 = RandomForestClassifier(random_state=42)\n",
    "# clf2 = SVC(kernel='sigmoid',probability=True, random_state=42)\n",
    "clf3 = LogisticRegression(random_state=42)\n",
    "clf4 = DecisionTreeClassifier(random_state=42)\n",
    "clf5 = KNeighborsClassifier()\n",
    "clf6 = MultinomialNB()\n",
    "# clf7 = GradientBoostingClassifier(random_state=42)\n",
    "clf8 = MLPClassifier(max_iter=2000,random_state=42)\n",
    "clf9 = SVC(kernel='poly',probability=True, random_state=42)\n",
    "# clf10 = SVC(kernel='rbf',probability=True, random_state=42)\n"
   ]
  },
  {
   "cell_type": "code",
   "execution_count": 7,
   "id": "89c51e29-4ee9-44b3-a0e1-0743a99e778c",
   "metadata": {},
   "outputs": [],
   "source": [
    "class ColumnExtractor(object):\n",
    "    def __init__(self, cols=None):\n",
    "        self.cols = cols\n",
    "    def transform(self, X):\n",
    "        return X[:,self.cols]\n",
    "    def fit(self, X, y=None):\n",
    "        return self\n",
    "    def get_params(self,deep=True):\n",
    "        return {\"cols\" : self.cols}\n",
    "    \n",
    "    def set_params(self, **parameters):\n",
    "        for parameter, value in parameters.items():\n",
    "            setattr(self, parameter, value)"
   ]
  },
  {
   "cell_type": "code",
   "execution_count": 61,
   "id": "ad2da986-2722-4e42-a24e-3a2b713f5089",
   "metadata": {},
   "outputs": [],
   "source": [
    "# Initiaze the hyperparameters for each dictionary\n",
    "param1 = {}\n",
    "# param1['feat_select__cols'] = sum([list(combinations(np.arange(0,20,1), i)) for i in range(1,5)], [])\n",
    "param1['feat_select__cols'] = [(0,2,4,6,8,10,12,14,16,18)]\n",
    "param1['classifier__n_estimators'] = [10, 20, 30, 40]\n",
    "param1['classifier__max_depth'] = [2, 3, 4]\n",
    "param1['classifier__class_weight'] = [None, 'balanced']\n",
    "# param1['classifier'] = [clf1]\n",
    "\n",
    "param2 = {}\n",
    "# param2['feat_select__cols'] = sum([list(combinations(np.arange(0,20,1), i)) for i in range(1,5)], [])\n",
    "param2['classifier__C'] = [10**-2, 10**-1, 10**0, 10**1, 10**2]\n",
    "# param2['Classifier__kernel'] = [ 'linear']\n",
    "param2['classifier__class_weight'] = [None, 'balanced']\n",
    "param2['classifier__degree'] = [2,3]\n",
    "# param2['classifier'] = [clf2]\n",
    "\n",
    "param3 = {}\n",
    "param3['feat_select__cols'] = [(0,2,4,6,8,10,12,14,16,18)]\n",
    "param3['feat_select__cols'] = sum([list(combinations(np.arange(0,20,1), i)) for i in range(1,5)], [])\n",
    "param3['classifier__C'] = [10**-2, 10**-1, 10**0, 10**1, 10**2]\n",
    "param3['classifier__penalty'] = ['l1', 'l2']\n",
    "param3['classifier__class_weight'] = [None, 'balanced']\n",
    "# param3['classifier'] = [clf3]\n",
    "\n",
    "param4 = {}\n",
    "param4['feat_select__cols'] = sum([list(combinations(np.arange(0,20,1), i)) for i in range(1,4)], [])\n",
    "param4['classifier__max_depth'] = [2,3,4,None]\n",
    "param4['classifier__min_samples_split'] = [2,3,4]\n",
    "param4['classifier__class_weight'] = [None, 'balanced']\n",
    "# param4['classifier'] = [clf4]\n",
    "\n",
    "param5 = {}\n",
    "param5['feat_select__cols'] = sum([list(combinations(np.arange(0,20,1), i)) for i in range(1,5)], [])\n",
    "param5['classifier__n_neighbors'] = [2,3,4,5]\n",
    "# param5['classifier'] = [clf5]\n",
    "\n",
    "param6 = {}\n",
    "param6['feat_select__cols'] = sum([list(combinations(np.arange(0,20,1), i)) for i in range(1,5)], [])\n",
    "param6['classifier__alpha'] = [10**0, 10**1, 10**2]\n",
    "# param6['classifier'] = [clf6]\n",
    "\n",
    "param7 = {}\n",
    "param7['feat_select__cols'] = sum([list(combinations(np.arange(0,20,1), i)) for i in range(1,5)], [])\n",
    "param7['classifier__n_estimators'] = [10, 20, 30, 40]\n",
    "param7['classifier__max_depth'] = [2, 3, 4]\n",
    "# param7['classifier'] = [clf7]\n",
    "\n",
    "param8 = {}\n",
    "# param8['feat_select__cols'] = sum([list(combinations(np.arange(0,20,1), i)) for i in range(1,5)], [])\n",
    "param8['feat_select__cols'] = [(0,2,4,6,8,10,12,14,16,18)]\n",
    "param8['classifier__hidden_layer_sizes'] = [(10),(10,10),(10,10,10)]\n",
    "param8['classifier__solver'] = ['adam', 'sgd']\n",
    "param8['classifier__alpha'] = [0.0001, 0.0005,0.001,0.005,0.01,0.05]    \n",
    "# param8['classifier'] = [clf8]"
   ]
  },
  {
   "cell_type": "code",
   "execution_count": 62,
   "id": "f8377b0d-68ef-46cc-9309-892ac57acbea",
   "metadata": {},
   "outputs": [],
   "source": [
    "pipeline1 = Pipeline([('feat_select',ColumnExtractor()),('classifier', clf1)])\n",
    "# pipeline2 = Pipeline([('feat_select',ColumnExtractor()),('classifier', clf2)])\n",
    "pipeline3 = Pipeline([('feat_select',ColumnExtractor()),('classifier', clf3)])\n",
    "pipeline4 = Pipeline([('feat_select',ColumnExtractor()),('classifier', clf4)])\n",
    "pipeline5 = Pipeline([('feat_select',ColumnExtractor()),('classifier', clf5)])\n",
    "pipeline6 = Pipeline([('feat_select',ColumnExtractor()),('classifier', clf6)])\n",
    "# pipeline7 = Pipeline([('feat_select',ColumnExtractor()),('classifier', clf7)])\n",
    "pipeline8 = Pipeline([('feat_select',ColumnExtractor()),('classifier', clf8)])\n",
    "pipeline9 = Pipeline([('feat_select',ColumnExtractor()),('classifier', clf9)])\n",
    "# pipeline10 = Pipeline([('feat_select',ColumnExtractor()),('classifier', clf10)])\n"
   ]
  },
  {
   "cell_type": "code",
   "execution_count": 26,
   "id": "45b07060-759f-412a-8dbb-520bc23d3bfb",
   "metadata": {},
   "outputs": [
    {
     "data": {
      "text/plain": [
       "['X_train_fft.csv',\n",
       " 'X_train_hwt.csv',\n",
       " 'X_train_laplacian.csv',\n",
       " 'X_train_modified_laplacian.csv',\n",
       " 'X_train_tenengrad.csv']"
      ]
     },
     "execution_count": 26,
     "metadata": {},
     "output_type": "execute_result"
    }
   ],
   "source": [
    "glob.glob(\"X_train*\")"
   ]
  },
  {
   "cell_type": "code",
   "execution_count": 63,
   "id": "5eef0bf1-1679-4fee-9e16-990691c3aa6b",
   "metadata": {},
   "outputs": [],
   "source": [
    "X_train_list = []\n",
    "X_test_list = []\n",
    "\n",
    "for files in glob.glob(\"X_train*\"):\n",
    "    X_train_list.append(pd.read_csv(files))\n",
    "X_train = np.hstack(X_train_list)\n",
    "\n",
    "for files in glob.glob(\"X_test*\"):\n",
    "    X_test_list.append(pd.read_csv(files))\n",
    "X_test = np.hstack(X_test_list)\n",
    "\n",
    "y_train = pd.read_csv(\"y_train_laplacian.csv\").values.reshape(-1)\n",
    "y_test = pd.read_csv(\"y_test_laplacian.csv\").values.reshape(-1)\n",
    "## Make binary labels\n",
    "y_train1 = np.array(y_train)\n",
    "y_train1[y_train1 > 0] = 1\n",
    "\n",
    "y_test1 = np.array(y_test)\n",
    "y_test1[y_test1 > 0] = 1"
   ]
  },
  {
   "cell_type": "code",
   "execution_count": 64,
   "id": "71d68ca3-e271-47e6-88e3-0d2ede7cae20",
   "metadata": {},
   "outputs": [],
   "source": [
    "indices = np.zeros(len(y_train1) + len(y_test1))\n",
    "indices[:len(y_train1)] = -1\n",
    "Data_X = np.vstack([X_train,X_test])\n",
    "Data_Y = np.hstack([y_train1,y_test1])\n",
    "\n",
    "ps = PredefinedSplit(indices)\n",
    "score = { \"Accuracy\":\"balanced_accuracy\" ,\"Recall\":\"recall\",\"Precision\":\"precision\",\"F1_Score\":\"f1\"}"
   ]
  },
  {
   "cell_type": "code",
   "execution_count": 65,
   "id": "f08c52e3-7708-4bad-a261-bbbdd2194ae8",
   "metadata": {},
   "outputs": [],
   "source": [
    "grid1 = GridSearchCV(pipeline1, n_jobs=-1, param_grid=[param1],scoring=score,refit=\"F1_Score\",cv=ps)\n",
    "# grid2 = GridSearchCV(pipeline2, n_jobs=-1, param_grid=[param2],scoring=score,refit=\"F1_Score\",cv=ps)\n",
    "grid3 = GridSearchCV(pipeline3, n_jobs=-1, param_grid=[param3],scoring=score,refit=\"F1_Score\",cv=ps)\n",
    "grid4 = GridSearchCV(pipeline4, n_jobs=-1, param_grid=[param4],scoring=score,refit=\"F1_Score\",cv=ps)\n",
    "grid5 = GridSearchCV(pipeline5, n_jobs=-1, param_grid=[param5],scoring=score,refit=\"F1_Score\",cv=ps)\n",
    "grid6 = GridSearchCV(pipeline6, n_jobs=-1, param_grid=[param6],scoring=score,refit=\"F1_Score\",cv=ps)\n",
    "# grid7 = GridSearchCV(pipeline7, n_jobs=-1, param_grid=[param7],scoring=score,refit=\"F1_Score\",cv=ps)\n",
    "grid8 = GridSearchCV(pipeline8, n_jobs=-1, param_grid=[param8],scoring=score,refit=\"F1_Score\",cv=ps)\n",
    "grid9 = GridSearchCV(pipeline9, n_jobs=-1, param_grid=[param2],scoring=score,refit=\"F1_Score\",cv=ps)\n",
    "# grid10 = GridSearchCV(pipeline10, n_jobs=-1, param_grid=[param2],scoring=score,refit=\"F1_Score\",cv=ps)"
   ]
  },
  {
   "cell_type": "code",
   "execution_count": 33,
   "id": "c0f85649-e85b-4410-8f74-403ad6a64727",
   "metadata": {},
   "outputs": [],
   "source": [
    "grids = [grid1,grid3,grid4,grid5,grid6,grid8,grid9]"
   ]
  },
  {
   "cell_type": "code",
   "execution_count": null,
   "id": "02c53b2f-af67-4173-a290-0b4ce09fd333",
   "metadata": {},
   "outputs": [],
   "source": [
    "grid3.fit(Data_X,Data_Y)"
   ]
  },
  {
   "cell_type": "code",
   "execution_count": null,
   "id": "1ce542b8-60ba-4d2f-a92b-a182f791e06e",
   "metadata": {},
   "outputs": [],
   "source": [
    "for pipe in grids:\n",
    "    print(\"Yes Done\")\n",
    "    pipe.fit(Data_X,Data_Y)"
   ]
  },
  {
   "cell_type": "code",
   "execution_count": null,
   "id": "7ccb5756-436b-4f6c-9c28-581d50dcaff4",
   "metadata": {},
   "outputs": [],
   "source": [
    "grid = grids[0]\n",
    "print(grid.best_estimator_)\n",
    "# print(pd.DataFrame(grid.cv_results_).iloc[grid.best_index_])"
   ]
  },
  {
   "cell_type": "code",
   "execution_count": 53,
   "id": "9a9dddba-2d70-4703-9900-b86bd2665815",
   "metadata": {},
   "outputs": [],
   "source": [
    "df = pd.DataFrame(grid1.cv_results_).drop(columns=[\"mean_fit_time\",\"std_fit_time\",\"mean_score_time\",\"std_score_time\",\"params\",\n",
    "                                             \"mean_test_Accuracy\",\"std_test_Accuracy\",\"rank_test_Accuracy\",\n",
    "                                            \"mean_test_Recall\",\"std_test_Recall\",\"rank_test_Recall\",\n",
    "                                            \"mean_test_Precision\",\"std_test_Precision\",\"rank_test_Precision\",\n",
    "                                            \"mean_test_F1_Score\",\"std_test_F1_Score\",\"rank_test_F1_Score\"])"
   ]
  },
  {
   "cell_type": "code",
   "execution_count": 54,
   "id": "ac7ce343-61ec-404c-ad5e-7de603dd97ad",
   "metadata": {},
   "outputs": [],
   "source": [
    "df[\"sum\"] = df[\"split0_test_Accuracy\"] + df[\"split0_test_Recall\"] + df[\"split0_test_Precision\"] + df[\"split0_test_F1_Score\"]"
   ]
  },
  {
   "cell_type": "code",
   "execution_count": 56,
   "id": "ef62b998-fe69-4a0b-a179-b53f95b1ea31",
   "metadata": {},
   "outputs": [
    {
     "data": {
      "text/html": [
       "<div>\n",
       "<style scoped>\n",
       "    .dataframe tbody tr th:only-of-type {\n",
       "        vertical-align: middle;\n",
       "    }\n",
       "\n",
       "    .dataframe tbody tr th {\n",
       "        vertical-align: top;\n",
       "    }\n",
       "\n",
       "    .dataframe thead th {\n",
       "        text-align: right;\n",
       "    }\n",
       "</style>\n",
       "<table border=\"1\" class=\"dataframe\">\n",
       "  <thead>\n",
       "    <tr style=\"text-align: right;\">\n",
       "      <th></th>\n",
       "      <th>param_classifier__class_weight</th>\n",
       "      <th>param_classifier__max_depth</th>\n",
       "      <th>param_classifier__n_estimators</th>\n",
       "      <th>param_feat_select__cols</th>\n",
       "      <th>split0_test_Accuracy</th>\n",
       "      <th>split0_test_Recall</th>\n",
       "      <th>split0_test_Precision</th>\n",
       "      <th>split0_test_F1_Score</th>\n",
       "      <th>sum</th>\n",
       "    </tr>\n",
       "  </thead>\n",
       "  <tbody>\n",
       "    <tr>\n",
       "      <th>11</th>\n",
       "      <td>None</td>\n",
       "      <td>4</td>\n",
       "      <td>40</td>\n",
       "      <td>(0, 2, 4, 6, 8, 10, 12, 14, 16, 18)</td>\n",
       "      <td>0.696429</td>\n",
       "      <td>0.964286</td>\n",
       "      <td>0.870968</td>\n",
       "      <td>0.915254</td>\n",
       "      <td>3.446936</td>\n",
       "    </tr>\n",
       "    <tr>\n",
       "      <th>10</th>\n",
       "      <td>None</td>\n",
       "      <td>4</td>\n",
       "      <td>30</td>\n",
       "      <td>(0, 2, 4, 6, 8, 10, 12, 14, 16, 18)</td>\n",
       "      <td>0.696429</td>\n",
       "      <td>0.964286</td>\n",
       "      <td>0.870968</td>\n",
       "      <td>0.915254</td>\n",
       "      <td>3.446936</td>\n",
       "    </tr>\n",
       "    <tr>\n",
       "      <th>2</th>\n",
       "      <td>None</td>\n",
       "      <td>2</td>\n",
       "      <td>30</td>\n",
       "      <td>(0, 2, 4, 6, 8, 10, 12, 14, 16, 18)</td>\n",
       "      <td>0.696429</td>\n",
       "      <td>0.964286</td>\n",
       "      <td>0.870968</td>\n",
       "      <td>0.915254</td>\n",
       "      <td>3.446936</td>\n",
       "    </tr>\n",
       "    <tr>\n",
       "      <th>3</th>\n",
       "      <td>None</td>\n",
       "      <td>2</td>\n",
       "      <td>40</td>\n",
       "      <td>(0, 2, 4, 6, 8, 10, 12, 14, 16, 18)</td>\n",
       "      <td>0.696429</td>\n",
       "      <td>0.964286</td>\n",
       "      <td>0.870968</td>\n",
       "      <td>0.915254</td>\n",
       "      <td>3.446936</td>\n",
       "    </tr>\n",
       "    <tr>\n",
       "      <th>7</th>\n",
       "      <td>None</td>\n",
       "      <td>3</td>\n",
       "      <td>40</td>\n",
       "      <td>(0, 2, 4, 6, 8, 10, 12, 14, 16, 18)</td>\n",
       "      <td>0.696429</td>\n",
       "      <td>0.964286</td>\n",
       "      <td>0.870968</td>\n",
       "      <td>0.915254</td>\n",
       "      <td>3.446936</td>\n",
       "    </tr>\n",
       "  </tbody>\n",
       "</table>\n",
       "</div>"
      ],
      "text/plain": [
       "   param_classifier__class_weight param_classifier__max_depth  \\\n",
       "11                           None                           4   \n",
       "10                           None                           4   \n",
       "2                            None                           2   \n",
       "3                            None                           2   \n",
       "7                            None                           3   \n",
       "\n",
       "   param_classifier__n_estimators              param_feat_select__cols  \\\n",
       "11                             40  (0, 2, 4, 6, 8, 10, 12, 14, 16, 18)   \n",
       "10                             30  (0, 2, 4, 6, 8, 10, 12, 14, 16, 18)   \n",
       "2                              30  (0, 2, 4, 6, 8, 10, 12, 14, 16, 18)   \n",
       "3                              40  (0, 2, 4, 6, 8, 10, 12, 14, 16, 18)   \n",
       "7                              40  (0, 2, 4, 6, 8, 10, 12, 14, 16, 18)   \n",
       "\n",
       "    split0_test_Accuracy  split0_test_Recall  split0_test_Precision  \\\n",
       "11              0.696429            0.964286               0.870968   \n",
       "10              0.696429            0.964286               0.870968   \n",
       "2               0.696429            0.964286               0.870968   \n",
       "3               0.696429            0.964286               0.870968   \n",
       "7               0.696429            0.964286               0.870968   \n",
       "\n",
       "    split0_test_F1_Score       sum  \n",
       "11              0.915254  3.446936  \n",
       "10              0.915254  3.446936  \n",
       "2               0.915254  3.446936  \n",
       "3               0.915254  3.446936  \n",
       "7               0.915254  3.446936  "
      ]
     },
     "execution_count": 56,
     "metadata": {},
     "output_type": "execute_result"
    }
   ],
   "source": [
    "df.sort_values(\"split0_test_F1_Score\")[-5:][::-1]"
   ]
  },
  {
   "cell_type": "code",
   "execution_count": null,
   "id": "12ac5d48-cb46-4db3-94f3-51de47c264e9",
   "metadata": {},
   "outputs": [],
   "source": [
    "fft - 0-3\n",
    "hwt - 4-7\n",
    "laplacian - 8-11\n",
    "modified laplacian - 12-15\n",
    "tenengrad - 16-19"
   ]
  }
 ],
 "metadata": {
  "kernelspec": {
   "display_name": "Python 3 (ipykernel)",
   "language": "python",
   "name": "python3"
  },
  "language_info": {
   "codemirror_mode": {
    "name": "ipython",
    "version": 3
   },
   "file_extension": ".py",
   "mimetype": "text/x-python",
   "name": "python",
   "nbconvert_exporter": "python",
   "pygments_lexer": "ipython3",
   "version": "3.9.7"
  }
 },
 "nbformat": 4,
 "nbformat_minor": 5
}
